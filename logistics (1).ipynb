{
 "cells": [
  {
   "cell_type": "code",
   "execution_count": 1,
   "id": "4161c46a-441a-4951-9d00-c829a31e0dcf",
   "metadata": {},
   "outputs": [],
   "source": [
    "import zipfile\n",
    "import os\n",
    "\n",
    "with zipfile.ZipFile(r'C:\\Users\\deepi\\Downloads\\archive (3).zip', 'r') as zip_ref:\n",
    "    zip_ref.extractall(r'C:\\Users\\deepi\\Downloads\\olist_data')\n",
    "\n"
   ]
  },
  {
   "cell_type": "code",
   "execution_count": 2,
   "id": "6527726f-48c1-4c02-92ce-8eb4ad943624",
   "metadata": {},
   "outputs": [],
   "source": [
    "import pandas as pd\n",
    "import os\n",
    "import glob\n",
    "\n",
    "data_path = 'C:/Users/deepi/Downloads/olist_data'  \n",
    "csv_files = glob.glob(data_path + '/*.csv')\n",
    "\n",
    "dataframes = {}\n",
    "for file in csv_files:\n",
    "    name = os.path.basename(file).replace('.csv', '')\n",
    "    dataframes[name] = pd.read_csv(file)\n",
    "\n",
    "# Now you can safely access any dataset like:\n",
    "df = dataframes['olist_orders_dataset']\n"
   ]
  },
  {
   "cell_type": "code",
   "execution_count": 3,
   "id": "0e49dce5-9b0d-4f4d-be5b-c27bf536a25b",
   "metadata": {},
   "outputs": [
    {
     "data": {
      "text/plain": [
       "['failed_deliveries_by_city',\n",
       " 'late_delivery_by_city',\n",
       " 'olist_customers_dataset',\n",
       " 'olist_geolocation_dataset',\n",
       " 'olist_orders_dataset',\n",
       " 'olist_order_items_dataset',\n",
       " 'olist_order_payments_dataset',\n",
       " 'olist_order_reviews_dataset',\n",
       " 'olist_products_dataset',\n",
       " 'olist_sellers_dataset',\n",
       " 'product_category_name_translation']"
      ]
     },
     "execution_count": 3,
     "metadata": {},
     "output_type": "execute_result"
    }
   ],
   "source": [
    "list(dataframes.keys())\n"
   ]
  },
  {
   "cell_type": "code",
   "execution_count": 4,
   "id": "e3a95ec9-7316-43bc-bedf-9dabe87a49f8",
   "metadata": {},
   "outputs": [],
   "source": [
    "df = dataframes['olist_orders_dataset']\n",
    "datetime_cols = [col for col in df.columns if 'date' in col or 'timestamp' in col]\n",
    "for col in datetime_cols:\n",
    "    df[col] = pd.to_datetime(df[col])\n"
   ]
  },
  {
   "cell_type": "code",
   "execution_count": 5,
   "id": "cb604b7c-ac80-4d76-bf85-b1cebce482ef",
   "metadata": {},
   "outputs": [],
   "source": [
    "orders = dataframes['olist_orders_dataset']\n",
    "\n",
    "# Explicitly convert each timestamp column\n",
    "orders['order_purchase_timestamp'] = pd.to_datetime(orders['order_purchase_timestamp'], errors='coerce')\n",
    "orders['order_approved_at'] = pd.to_datetime(orders['order_approved_at'], errors='coerce')\n",
    "orders['order_delivered_customer_date'] = pd.to_datetime(orders['order_delivered_customer_date'], errors='coerce')\n",
    "orders['order_estimated_delivery_date'] = pd.to_datetime(orders['order_estimated_delivery_date'], errors='coerce')\n"
   ]
  },
  {
   "cell_type": "code",
   "execution_count": 6,
   "id": "bc9f441b-8f3e-4e25-a617-ff1ba3e6c642",
   "metadata": {},
   "outputs": [],
   "source": [
    "orders = dataframes['olist_orders_dataset']\n",
    "orders['delivery_duration_hrs'] = (orders['order_delivered_customer_date'] - orders['order_purchase_timestamp']).dt.total_seconds() / 3600\n",
    "orders['wait_time_hrs'] = (orders['order_delivered_customer_date'] - orders['order_approved_at']).dt.total_seconds() / 3600\n",
    "orders['processing_time_hrs'] = (orders['order_approved_at'] - orders['order_purchase_timestamp']).dt.total_seconds() / 3600\n"
   ]
  },
  {
   "cell_type": "code",
   "execution_count": 7,
   "id": "e0986e9d-2b53-4f91-a1f8-c94e1fb29e1a",
   "metadata": {},
   "outputs": [
    {
     "data": {
      "text/plain": [
       "order_purchase_timestamp         datetime64[ns]\n",
       "order_approved_at                datetime64[ns]\n",
       "order_delivered_customer_date    datetime64[ns]\n",
       "dtype: object"
      ]
     },
     "execution_count": 7,
     "metadata": {},
     "output_type": "execute_result"
    }
   ],
   "source": [
    "orders.dtypes[['order_purchase_timestamp', 'order_approved_at', 'order_delivered_customer_date']]\n"
   ]
  },
  {
   "cell_type": "code",
   "execution_count": 8,
   "id": "7a4f5b3d-02ce-4b2c-9b59-2d9688d322ab",
   "metadata": {},
   "outputs": [
    {
     "data": {
      "text/plain": [
       "['failed_deliveries_by_city',\n",
       " 'late_delivery_by_city',\n",
       " 'olist_customers_dataset',\n",
       " 'olist_geolocation_dataset',\n",
       " 'olist_orders_dataset',\n",
       " 'olist_order_items_dataset',\n",
       " 'olist_order_payments_dataset',\n",
       " 'olist_order_reviews_dataset',\n",
       " 'olist_products_dataset',\n",
       " 'olist_sellers_dataset',\n",
       " 'product_category_name_translation']"
      ]
     },
     "execution_count": 8,
     "metadata": {},
     "output_type": "execute_result"
    }
   ],
   "source": [
    "list(dataframes.keys())\n"
   ]
  },
  {
   "cell_type": "code",
   "execution_count": 9,
   "id": "4fc2a1c5-04a1-4115-9e09-a817c5a41af8",
   "metadata": {},
   "outputs": [],
   "source": [
    "customers = dataframes['olist_customers_dataset']\n"
   ]
  },
  {
   "cell_type": "code",
   "execution_count": 10,
   "id": "403dccc6-57f5-42d0-92df-95bff1943770",
   "metadata": {},
   "outputs": [
    {
     "ename": "NameError",
     "evalue": "name 'geo_grouped' is not defined",
     "output_type": "error",
     "traceback": [
      "\u001b[1;31m---------------------------------------------------------------------------\u001b[0m",
      "\u001b[1;31mNameError\u001b[0m                                 Traceback (most recent call last)",
      "Cell \u001b[1;32mIn[10], line 1\u001b[0m\n\u001b[1;32m----> 1\u001b[0m \u001b[38;5;28mprint\u001b[39m(\u001b[38;5;28mset\u001b[39m(customers\u001b[38;5;241m.\u001b[39mcolumns) \u001b[38;5;241m&\u001b[39m \u001b[38;5;28mset\u001b[39m(geo_grouped\u001b[38;5;241m.\u001b[39mcolumns))\n",
      "\u001b[1;31mNameError\u001b[0m: name 'geo_grouped' is not defined"
     ]
    }
   ],
   "source": [
    "print(set(customers.columns) & set(geo_grouped.columns))\n"
   ]
  },
  {
   "cell_type": "code",
   "execution_count": null,
   "id": "7846276d-f05b-4934-a71f-770e6e82735d",
   "metadata": {},
   "outputs": [],
   "source": [
    "print(customers.columns)\n"
   ]
  },
  {
   "cell_type": "code",
   "execution_count": 10,
   "id": "822aa011-f675-485d-b9cd-15c9fd15b28a",
   "metadata": {},
   "outputs": [
    {
     "name": "stdout",
     "output_type": "stream",
     "text": [
      "   zip_code_prefix                     region\n",
      "0            14409                 franca, SP\n",
      "1             9790  sao bernardo do campo, SP\n",
      "2             1151              sao paulo, SP\n",
      "3             8775        mogi das cruzes, SP\n",
      "4            13056               campinas, SP\n"
     ]
    }
   ],
   "source": [
    "# Renameing column in customers to match with geo\n",
    "customers = dataframes['olist_customers_dataset'].copy()\n",
    "customers = customers.rename(columns={'customer_zip_code_prefix': 'zip_code_prefix'})\n",
    "\n",
    "geo = dataframes['olist_geolocation_dataset']\n",
    "geo_grouped = geo.groupby('geolocation_zip_code_prefix').first().reset_index()\n",
    "geo_grouped = geo_grouped.rename(columns={'geolocation_zip_code_prefix': 'zip_code_prefix'})\n",
    "\n",
    "# merge\n",
    "customers = customers.merge(geo_grouped, on='zip_code_prefix', how='left')\n",
    "\n",
    "# Add region label\n",
    "customers['region'] = customers['geolocation_city'] + ', ' + customers['geolocation_state']\n",
    "print(customers[['zip_code_prefix', 'region']].head())\n"
   ]
  },
  {
   "cell_type": "code",
   "execution_count": 11,
   "id": "d90df37e-7a51-4782-a21c-b17216b9d659",
   "metadata": {},
   "outputs": [],
   "source": [
    "customers['city_region'] = customers['geolocation_city'] + ', ' + customers['geolocation_state']\n"
   ]
  },
  {
   "cell_type": "code",
   "execution_count": 12,
   "id": "fa6ad346-3969-4272-9fb3-8703432694e3",
   "metadata": {},
   "outputs": [],
   "source": [
    "orders['delivery_duration_hrs'] = (orders['order_delivered_customer_date'] - orders['order_purchase_timestamp']).dt.total_seconds() / 3600\n"
   ]
  },
  {
   "cell_type": "code",
   "execution_count": 13,
   "id": "9cbbe0c0-b34b-4e78-a049-90126b3d9240",
   "metadata": {},
   "outputs": [
    {
     "data": {
      "text/plain": [
       "0        Truck\n",
       "1        Truck\n",
       "2        Truck\n",
       "3        Truck\n",
       "4        Truck\n",
       "         ...  \n",
       "99436    Truck\n",
       "99437    Truck\n",
       "99438    Truck\n",
       "99439    Truck\n",
       "99440    Truck\n",
       "Name: vehicle_type, Length: 99441, dtype: object"
      ]
     },
     "execution_count": 13,
     "metadata": {},
     "output_type": "execute_result"
    }
   ],
   "source": [
    "import numpy as np\n",
    "\n",
    "orders['vehicle_type'] = np.where(orders['delivery_duration_hrs'] < 24, 'Bike', 'Truck')\n",
    "orders['vehicle_type'] "
   ]
  },
  {
   "cell_type": "code",
   "execution_count": 14,
   "id": "40d921b5-97db-429a-8d21-eb0af01ab316",
   "metadata": {},
   "outputs": [
    {
     "name": "stdout",
     "output_type": "stream",
     "text": [
      "Index(['order_id', 'customer_id', 'order_status', 'order_purchase_timestamp',\n",
      "       'order_approved_at', 'order_delivered_carrier_date',\n",
      "       'order_delivered_customer_date', 'order_estimated_delivery_date',\n",
      "       'delivery_duration_hrs', 'wait_time_hrs', 'processing_time_hrs',\n",
      "       'vehicle_type'],\n",
      "      dtype='object')\n"
     ]
    }
   ],
   "source": [
    "print(orders.columns)\n"
   ]
  },
  {
   "cell_type": "code",
   "execution_count": 15,
   "id": "37314827-7c1b-4e20-bd33-bd66ff3b5893",
   "metadata": {},
   "outputs": [
    {
     "data": {
      "text/html": [
       "<div>\n",
       "<style scoped>\n",
       "    .dataframe tbody tr th:only-of-type {\n",
       "        vertical-align: middle;\n",
       "    }\n",
       "\n",
       "    .dataframe tbody tr th {\n",
       "        vertical-align: top;\n",
       "    }\n",
       "\n",
       "    .dataframe thead th {\n",
       "        text-align: right;\n",
       "    }\n",
       "</style>\n",
       "<table border=\"1\" class=\"dataframe\">\n",
       "  <thead>\n",
       "    <tr style=\"text-align: right;\">\n",
       "      <th></th>\n",
       "      <th>order_id</th>\n",
       "      <th>customer_id</th>\n",
       "      <th>order_status</th>\n",
       "      <th>order_purchase_timestamp</th>\n",
       "      <th>order_approved_at</th>\n",
       "      <th>order_delivered_carrier_date</th>\n",
       "      <th>order_delivered_customer_date</th>\n",
       "      <th>order_estimated_delivery_date</th>\n",
       "      <th>delivery_duration_hrs</th>\n",
       "      <th>wait_time_hrs</th>\n",
       "      <th>processing_time_hrs</th>\n",
       "      <th>vehicle_type</th>\n",
       "      <th>is_late</th>\n",
       "      <th>is_failed</th>\n",
       "    </tr>\n",
       "  </thead>\n",
       "  <tbody>\n",
       "    <tr>\n",
       "      <th>0</th>\n",
       "      <td>e481f51cbdc54678b7cc49136f2d6af7</td>\n",
       "      <td>9ef432eb6251297304e76186b10a928d</td>\n",
       "      <td>delivered</td>\n",
       "      <td>2017-10-02 10:56:33</td>\n",
       "      <td>2017-10-02 11:07:15</td>\n",
       "      <td>2017-10-04 19:55:00</td>\n",
       "      <td>2017-10-10 21:25:13</td>\n",
       "      <td>2017-10-18</td>\n",
       "      <td>202.477778</td>\n",
       "      <td>202.299444</td>\n",
       "      <td>0.178333</td>\n",
       "      <td>Truck</td>\n",
       "      <td>False</td>\n",
       "      <td>False</td>\n",
       "    </tr>\n",
       "    <tr>\n",
       "      <th>1</th>\n",
       "      <td>53cdb2fc8bc7dce0b6741e2150273451</td>\n",
       "      <td>b0830fb4747a6c6d20dea0b8c802d7ef</td>\n",
       "      <td>delivered</td>\n",
       "      <td>2018-07-24 20:41:37</td>\n",
       "      <td>2018-07-26 03:24:27</td>\n",
       "      <td>2018-07-26 14:31:00</td>\n",
       "      <td>2018-08-07 15:27:45</td>\n",
       "      <td>2018-08-13</td>\n",
       "      <td>330.768889</td>\n",
       "      <td>300.055000</td>\n",
       "      <td>30.713889</td>\n",
       "      <td>Truck</td>\n",
       "      <td>False</td>\n",
       "      <td>False</td>\n",
       "    </tr>\n",
       "    <tr>\n",
       "      <th>2</th>\n",
       "      <td>47770eb9100c2d0c44946d9cf07ec65d</td>\n",
       "      <td>41ce2a54c0b03bf3443c3d931a367089</td>\n",
       "      <td>delivered</td>\n",
       "      <td>2018-08-08 08:38:49</td>\n",
       "      <td>2018-08-08 08:55:23</td>\n",
       "      <td>2018-08-08 13:50:00</td>\n",
       "      <td>2018-08-17 18:06:29</td>\n",
       "      <td>2018-09-04</td>\n",
       "      <td>225.461111</td>\n",
       "      <td>225.185000</td>\n",
       "      <td>0.276111</td>\n",
       "      <td>Truck</td>\n",
       "      <td>False</td>\n",
       "      <td>False</td>\n",
       "    </tr>\n",
       "    <tr>\n",
       "      <th>3</th>\n",
       "      <td>949d5b44dbf5de918fe9c16f97b45f8a</td>\n",
       "      <td>f88197465ea7920adcdbec7375364d82</td>\n",
       "      <td>delivered</td>\n",
       "      <td>2017-11-18 19:28:06</td>\n",
       "      <td>2017-11-18 19:45:59</td>\n",
       "      <td>2017-11-22 13:39:59</td>\n",
       "      <td>2017-12-02 00:28:42</td>\n",
       "      <td>2017-12-15</td>\n",
       "      <td>317.010000</td>\n",
       "      <td>316.711944</td>\n",
       "      <td>0.298056</td>\n",
       "      <td>Truck</td>\n",
       "      <td>False</td>\n",
       "      <td>False</td>\n",
       "    </tr>\n",
       "    <tr>\n",
       "      <th>4</th>\n",
       "      <td>ad21c59c0840e6cb83a9ceb5573f8159</td>\n",
       "      <td>8ab97904e6daea8866dbdbc4fb7aad2c</td>\n",
       "      <td>delivered</td>\n",
       "      <td>2018-02-13 21:18:39</td>\n",
       "      <td>2018-02-13 22:20:29</td>\n",
       "      <td>2018-02-14 19:46:34</td>\n",
       "      <td>2018-02-16 18:17:02</td>\n",
       "      <td>2018-02-26</td>\n",
       "      <td>68.973056</td>\n",
       "      <td>67.942500</td>\n",
       "      <td>1.030556</td>\n",
       "      <td>Truck</td>\n",
       "      <td>False</td>\n",
       "      <td>False</td>\n",
       "    </tr>\n",
       "    <tr>\n",
       "      <th>...</th>\n",
       "      <td>...</td>\n",
       "      <td>...</td>\n",
       "      <td>...</td>\n",
       "      <td>...</td>\n",
       "      <td>...</td>\n",
       "      <td>...</td>\n",
       "      <td>...</td>\n",
       "      <td>...</td>\n",
       "      <td>...</td>\n",
       "      <td>...</td>\n",
       "      <td>...</td>\n",
       "      <td>...</td>\n",
       "      <td>...</td>\n",
       "      <td>...</td>\n",
       "    </tr>\n",
       "    <tr>\n",
       "      <th>99436</th>\n",
       "      <td>9c5dedf39a927c1b2549525ed64a053c</td>\n",
       "      <td>39bd1228ee8140590ac3aca26f2dfe00</td>\n",
       "      <td>delivered</td>\n",
       "      <td>2017-03-09 09:54:05</td>\n",
       "      <td>2017-03-09 09:54:05</td>\n",
       "      <td>2017-03-10 11:18:03</td>\n",
       "      <td>2017-03-17 15:08:01</td>\n",
       "      <td>2017-03-28</td>\n",
       "      <td>197.232222</td>\n",
       "      <td>197.232222</td>\n",
       "      <td>0.000000</td>\n",
       "      <td>Truck</td>\n",
       "      <td>False</td>\n",
       "      <td>False</td>\n",
       "    </tr>\n",
       "    <tr>\n",
       "      <th>99437</th>\n",
       "      <td>63943bddc261676b46f01ca7ac2f7bd8</td>\n",
       "      <td>1fca14ff2861355f6e5f14306ff977a7</td>\n",
       "      <td>delivered</td>\n",
       "      <td>2018-02-06 12:58:58</td>\n",
       "      <td>2018-02-06 13:10:37</td>\n",
       "      <td>2018-02-07 23:22:42</td>\n",
       "      <td>2018-02-28 17:37:56</td>\n",
       "      <td>2018-03-02</td>\n",
       "      <td>532.649444</td>\n",
       "      <td>532.455278</td>\n",
       "      <td>0.194167</td>\n",
       "      <td>Truck</td>\n",
       "      <td>False</td>\n",
       "      <td>False</td>\n",
       "    </tr>\n",
       "    <tr>\n",
       "      <th>99438</th>\n",
       "      <td>83c1379a015df1e13d02aae0204711ab</td>\n",
       "      <td>1aa71eb042121263aafbe80c1b562c9c</td>\n",
       "      <td>delivered</td>\n",
       "      <td>2017-08-27 14:46:43</td>\n",
       "      <td>2017-08-27 15:04:16</td>\n",
       "      <td>2017-08-28 20:52:26</td>\n",
       "      <td>2017-09-21 11:24:17</td>\n",
       "      <td>2017-09-27</td>\n",
       "      <td>596.626111</td>\n",
       "      <td>596.333611</td>\n",
       "      <td>0.292500</td>\n",
       "      <td>Truck</td>\n",
       "      <td>False</td>\n",
       "      <td>False</td>\n",
       "    </tr>\n",
       "    <tr>\n",
       "      <th>99439</th>\n",
       "      <td>11c177c8e97725db2631073c19f07b62</td>\n",
       "      <td>b331b74b18dc79bcdf6532d51e1637c1</td>\n",
       "      <td>delivered</td>\n",
       "      <td>2018-01-08 21:28:27</td>\n",
       "      <td>2018-01-08 21:36:21</td>\n",
       "      <td>2018-01-12 15:35:03</td>\n",
       "      <td>2018-01-25 23:32:54</td>\n",
       "      <td>2018-02-15</td>\n",
       "      <td>410.074167</td>\n",
       "      <td>409.942500</td>\n",
       "      <td>0.131667</td>\n",
       "      <td>Truck</td>\n",
       "      <td>False</td>\n",
       "      <td>False</td>\n",
       "    </tr>\n",
       "    <tr>\n",
       "      <th>99440</th>\n",
       "      <td>66dea50a8b16d9b4dee7af250b4be1a5</td>\n",
       "      <td>edb027a75a1449115f6b43211ae02a24</td>\n",
       "      <td>delivered</td>\n",
       "      <td>2018-03-08 20:57:30</td>\n",
       "      <td>2018-03-09 11:20:28</td>\n",
       "      <td>2018-03-09 22:11:59</td>\n",
       "      <td>2018-03-16 13:08:30</td>\n",
       "      <td>2018-04-03</td>\n",
       "      <td>184.183333</td>\n",
       "      <td>169.800556</td>\n",
       "      <td>14.382778</td>\n",
       "      <td>Truck</td>\n",
       "      <td>False</td>\n",
       "      <td>False</td>\n",
       "    </tr>\n",
       "  </tbody>\n",
       "</table>\n",
       "<p>99441 rows × 14 columns</p>\n",
       "</div>"
      ],
      "text/plain": [
       "                               order_id                       customer_id  \\\n",
       "0      e481f51cbdc54678b7cc49136f2d6af7  9ef432eb6251297304e76186b10a928d   \n",
       "1      53cdb2fc8bc7dce0b6741e2150273451  b0830fb4747a6c6d20dea0b8c802d7ef   \n",
       "2      47770eb9100c2d0c44946d9cf07ec65d  41ce2a54c0b03bf3443c3d931a367089   \n",
       "3      949d5b44dbf5de918fe9c16f97b45f8a  f88197465ea7920adcdbec7375364d82   \n",
       "4      ad21c59c0840e6cb83a9ceb5573f8159  8ab97904e6daea8866dbdbc4fb7aad2c   \n",
       "...                                 ...                               ...   \n",
       "99436  9c5dedf39a927c1b2549525ed64a053c  39bd1228ee8140590ac3aca26f2dfe00   \n",
       "99437  63943bddc261676b46f01ca7ac2f7bd8  1fca14ff2861355f6e5f14306ff977a7   \n",
       "99438  83c1379a015df1e13d02aae0204711ab  1aa71eb042121263aafbe80c1b562c9c   \n",
       "99439  11c177c8e97725db2631073c19f07b62  b331b74b18dc79bcdf6532d51e1637c1   \n",
       "99440  66dea50a8b16d9b4dee7af250b4be1a5  edb027a75a1449115f6b43211ae02a24   \n",
       "\n",
       "      order_status order_purchase_timestamp   order_approved_at  \\\n",
       "0        delivered      2017-10-02 10:56:33 2017-10-02 11:07:15   \n",
       "1        delivered      2018-07-24 20:41:37 2018-07-26 03:24:27   \n",
       "2        delivered      2018-08-08 08:38:49 2018-08-08 08:55:23   \n",
       "3        delivered      2017-11-18 19:28:06 2017-11-18 19:45:59   \n",
       "4        delivered      2018-02-13 21:18:39 2018-02-13 22:20:29   \n",
       "...            ...                      ...                 ...   \n",
       "99436    delivered      2017-03-09 09:54:05 2017-03-09 09:54:05   \n",
       "99437    delivered      2018-02-06 12:58:58 2018-02-06 13:10:37   \n",
       "99438    delivered      2017-08-27 14:46:43 2017-08-27 15:04:16   \n",
       "99439    delivered      2018-01-08 21:28:27 2018-01-08 21:36:21   \n",
       "99440    delivered      2018-03-08 20:57:30 2018-03-09 11:20:28   \n",
       "\n",
       "      order_delivered_carrier_date order_delivered_customer_date  \\\n",
       "0              2017-10-04 19:55:00           2017-10-10 21:25:13   \n",
       "1              2018-07-26 14:31:00           2018-08-07 15:27:45   \n",
       "2              2018-08-08 13:50:00           2018-08-17 18:06:29   \n",
       "3              2017-11-22 13:39:59           2017-12-02 00:28:42   \n",
       "4              2018-02-14 19:46:34           2018-02-16 18:17:02   \n",
       "...                            ...                           ...   \n",
       "99436          2017-03-10 11:18:03           2017-03-17 15:08:01   \n",
       "99437          2018-02-07 23:22:42           2018-02-28 17:37:56   \n",
       "99438          2017-08-28 20:52:26           2017-09-21 11:24:17   \n",
       "99439          2018-01-12 15:35:03           2018-01-25 23:32:54   \n",
       "99440          2018-03-09 22:11:59           2018-03-16 13:08:30   \n",
       "\n",
       "      order_estimated_delivery_date  delivery_duration_hrs  wait_time_hrs  \\\n",
       "0                        2017-10-18             202.477778     202.299444   \n",
       "1                        2018-08-13             330.768889     300.055000   \n",
       "2                        2018-09-04             225.461111     225.185000   \n",
       "3                        2017-12-15             317.010000     316.711944   \n",
       "4                        2018-02-26              68.973056      67.942500   \n",
       "...                             ...                    ...            ...   \n",
       "99436                    2017-03-28             197.232222     197.232222   \n",
       "99437                    2018-03-02             532.649444     532.455278   \n",
       "99438                    2017-09-27             596.626111     596.333611   \n",
       "99439                    2018-02-15             410.074167     409.942500   \n",
       "99440                    2018-04-03             184.183333     169.800556   \n",
       "\n",
       "       processing_time_hrs vehicle_type  is_late  is_failed  \n",
       "0                 0.178333        Truck    False      False  \n",
       "1                30.713889        Truck    False      False  \n",
       "2                 0.276111        Truck    False      False  \n",
       "3                 0.298056        Truck    False      False  \n",
       "4                 1.030556        Truck    False      False  \n",
       "...                    ...          ...      ...        ...  \n",
       "99436             0.000000        Truck    False      False  \n",
       "99437             0.194167        Truck    False      False  \n",
       "99438             0.292500        Truck    False      False  \n",
       "99439             0.131667        Truck    False      False  \n",
       "99440            14.382778        Truck    False      False  \n",
       "\n",
       "[99441 rows x 14 columns]"
      ]
     },
     "execution_count": 15,
     "metadata": {},
     "output_type": "execute_result"
    }
   ],
   "source": [
    "# Late if delivered after estimated\n",
    "df['is_late'] = df['order_delivered_customer_date'] > df['order_estimated_delivery_date']\n",
    "\n",
    "# Failed if not delivered (NaN)\n",
    "df['is_failed'] = df['order_delivered_customer_date'].isna()\n",
    "df"
   ]
  },
  {
   "cell_type": "code",
   "execution_count": 16,
   "id": "16165a5d-75bd-4269-af30-ad601463e4d1",
   "metadata": {},
   "outputs": [],
   "source": [
    "orders = dataframes['olist_orders_dataset']\n",
    "items = dataframes['olist_order_items_dataset']\n",
    "payments = dataframes['olist_order_payments_dataset']\n",
    "reviews = dataframes['olist_order_reviews_dataset']\n",
    "\n",
    "\n",
    "master_df = orders.merge(items, on='order_id', how='left') \\\n",
    "                  .merge(payments, on='order_id', how='left') \\\n",
    "                  .merge(reviews, on='order_id', how='left')\n"
   ]
  },
  {
   "cell_type": "code",
   "execution_count": 17,
   "id": "4a900b0f-b506-4178-900d-b7d53764ce11",
   "metadata": {},
   "outputs": [
    {
     "name": "stdout",
     "output_type": "stream",
     "text": [
      "                           order_id order_delivered_customer_date  \\\n",
      "0  e481f51cbdc54678b7cc49136f2d6af7           2017-10-10 21:25:13   \n",
      "1  53cdb2fc8bc7dce0b6741e2150273451           2018-08-07 15:27:45   \n",
      "2  47770eb9100c2d0c44946d9cf07ec65d           2018-08-17 18:06:29   \n",
      "3  949d5b44dbf5de918fe9c16f97b45f8a           2017-12-02 00:28:42   \n",
      "4  ad21c59c0840e6cb83a9ceb5573f8159           2018-02-16 18:17:02   \n",
      "5  a4591c265e18cb1dcee52889e2d8acc3           2017-07-26 10:57:55   \n",
      "6  136cce7faa42fdb2cefd53fdc79a6098                           NaT   \n",
      "7  6514b8ad8028c9f2cc2374ded245783f           2017-05-26 12:55:51   \n",
      "8  76c6e866289321a7c93b82b54852dc33           2017-02-02 14:08:10   \n",
      "9  e69bfb5eb88e0ed6a785585b27e16dbf           2017-08-16 17:14:30   \n",
      "\n",
      "  order_estimated_delivery_date  is_late  \n",
      "0                    2017-10-18    False  \n",
      "1                    2018-08-13    False  \n",
      "2                    2018-09-04    False  \n",
      "3                    2017-12-15    False  \n",
      "4                    2018-02-26    False  \n",
      "5                    2017-08-01    False  \n",
      "6                    2017-05-09    False  \n",
      "7                    2017-06-07    False  \n",
      "8                    2017-03-06    False  \n",
      "9                    2017-08-23    False  \n"
     ]
    }
   ],
   "source": [
    "orders['is_late'] = orders['order_delivered_customer_date'] > orders['order_estimated_delivery_date']\n",
    "print(orders[['order_id', 'order_delivered_customer_date', 'order_estimated_delivery_date', 'is_late']].head(10))\n"
   ]
  },
  {
   "cell_type": "code",
   "execution_count": 18,
   "id": "652fc282-2175-4379-b854-b9bd949dfd5c",
   "metadata": {},
   "outputs": [
    {
     "name": "stdout",
     "output_type": "stream",
     "text": [
      "Total late deliveries: 7827\n"
     ]
    }
   ],
   "source": [
    "print(\"Total late deliveries:\", orders['is_late'].sum())\n"
   ]
  },
  {
   "cell_type": "code",
   "execution_count": 19,
   "id": "55242e35-4a6a-49c5-96ae-5d844abac5fc",
   "metadata": {},
   "outputs": [
    {
     "name": "stdout",
     "output_type": "stream",
     "text": [
      "Percentage of late deliveries: 7.87%\n"
     ]
    }
   ],
   "source": [
    "late_pct = orders['is_late'].mean() * 100\n",
    "print(f\"Percentage of late deliveries: {late_pct:.2f}%\")\n"
   ]
  },
  {
   "cell_type": "code",
   "execution_count": 20,
   "id": "44d2aba8-53f8-4f7f-a34b-cb5c4cdf6267",
   "metadata": {},
   "outputs": [
    {
     "name": "stdout",
     "output_type": "stream",
     "text": [
      "                           order_id order_status  \\\n",
      "0  e481f51cbdc54678b7cc49136f2d6af7    delivered   \n",
      "1  53cdb2fc8bc7dce0b6741e2150273451    delivered   \n",
      "2  47770eb9100c2d0c44946d9cf07ec65d    delivered   \n",
      "3  949d5b44dbf5de918fe9c16f97b45f8a    delivered   \n",
      "4  ad21c59c0840e6cb83a9ceb5573f8159    delivered   \n",
      "5  a4591c265e18cb1dcee52889e2d8acc3    delivered   \n",
      "6  136cce7faa42fdb2cefd53fdc79a6098     invoiced   \n",
      "7  6514b8ad8028c9f2cc2374ded245783f    delivered   \n",
      "8  76c6e866289321a7c93b82b54852dc33    delivered   \n",
      "9  e69bfb5eb88e0ed6a785585b27e16dbf    delivered   \n",
      "\n",
      "  order_delivered_customer_date  is_failed  \n",
      "0           2017-10-10 21:25:13      False  \n",
      "1           2018-08-07 15:27:45      False  \n",
      "2           2018-08-17 18:06:29      False  \n",
      "3           2017-12-02 00:28:42      False  \n",
      "4           2018-02-16 18:17:02      False  \n",
      "5           2017-07-26 10:57:55      False  \n",
      "6                           NaT       True  \n",
      "7           2017-05-26 12:55:51      False  \n",
      "8           2017-02-02 14:08:10      False  \n",
      "9           2017-08-16 17:14:30      False  \n"
     ]
    }
   ],
   "source": [
    "orders['is_failed'] = orders['order_delivered_customer_date'].isna()\n",
    "print(orders[['order_id', 'order_status', 'order_delivered_customer_date', 'is_failed']].head(10))\n"
   ]
  },
  {
   "cell_type": "code",
   "execution_count": 21,
   "id": "e386d9df-8a8c-49cf-a702-c8227edd2927",
   "metadata": {},
   "outputs": [
    {
     "name": "stdout",
     "output_type": "stream",
     "text": [
      "Total failed deliveries: 2965\n"
     ]
    }
   ],
   "source": [
    "print(\"Total failed deliveries:\", orders['is_failed'].sum())\n"
   ]
  },
  {
   "cell_type": "code",
   "execution_count": null,
   "id": "896254e6-41ab-4b0f-ae1a-26a5ff0037dc",
   "metadata": {},
   "outputs": [],
   "source": [
    "failed_pct = orders['is_failed'].mean() * 100\n",
    "print(f\"Percentage of failed deliveries: {failed_pct:.2f}%\")\n"
   ]
  },
  {
   "cell_type": "code",
   "execution_count": null,
   "id": "e1f8fbc1-4f82-405b-8e06-5ef28a4c36e8",
   "metadata": {},
   "outputs": [],
   "source": [
    "\n",
    "customers['region'] = customers['geolocation_city'] + ', ' + customers['geolocation_state']\n",
    "orders = orders.merge(customers[['customer_id', 'region']], on='customer_id', how='left')\n",
    "print(orders.columns)"
   ]
  },
  {
   "cell_type": "code",
   "execution_count": null,
   "id": "d64a19ad-1060-4201-90ea-333a70280c81",
   "metadata": {},
   "outputs": [],
   "source": [
    "orders.groupby('region')['is_failed'].mean().sort_values(ascending=False).head(10)\n"
   ]
  },
  {
   "cell_type": "code",
   "execution_count": null,
   "id": "b5c897d2-f032-4b13-bec1-232ff21ee4e9",
   "metadata": {},
   "outputs": [],
   "source": [
    "pip install sqlalchemy pyodbc\n"
   ]
  },
  {
   "cell_type": "code",
   "execution_count": null,
   "id": "1dd068b9-7184-4192-8901-320bd060fcf1",
   "metadata": {},
   "outputs": [],
   "source": [
    "import pandas as pd\n",
    "from sqlalchemy import create_engine\n",
    "import urllib\n"
   ]
  },
  {
   "cell_type": "code",
   "execution_count": null,
   "id": "fc3288a0-3da4-4200-aefb-f9d74a793ea0",
   "metadata": {},
   "outputs": [],
   "source": [
    "params = urllib.parse.quote_plus(\n",
    "    r\"DRIVER={ODBC Driver 17 for SQL Server};\"\n",
    "    r\"SERVER=localhost;\"  \n",
    "    r\"DATABASE=LaDeDB;\"\n",
    "    r\"Trusted_Connection=yes;\"\n",
    ")\n"
   ]
  },
  {
   "cell_type": "code",
   "execution_count": null,
   "id": "57b31016-f00c-4f81-b73a-e7a55b320ef1",
   "metadata": {},
   "outputs": [],
   "source": [
    "engine = create_engine(f\"mssql+pyodbc:///?odbc_connect={params}\")\n"
   ]
  },
  {
   "cell_type": "code",
   "execution_count": null,
   "id": "7c031552-c005-4735-934d-b3bf0186e340",
   "metadata": {},
   "outputs": [],
   "source": [
    "import pandas as pd\n",
    "from sqlalchemy import create_engine\n",
    "import urllib\n",
    "\n",
    "# Replace with the correct ODBC driver installed on your system\n",
    "params = urllib.parse.quote_plus(\n",
    "    r\"DRIVER={ODBC Driver 17 for SQL Server};\"\n",
    "    r\"SERVER=localhost;\"\n",
    "    r\"DATABASE=LaDeDB;\"\n",
    "    r\"Trusted_Connection=yes;\"\n",
    ")\n",
    "\n",
    "engine = create_engine(f\"mssql+pyodbc:///?odbc_connect={params}\")\n",
    "\n",
    "# Example: dictionary of DataFrames\n",
    "tables = {\n",
    "    \"orders\": orders,\n",
    "    \"customers\": customers,\n",
    "    'geolocation': geo,\n",
    "    'order_items': items,\n",
    "    'payments': payments,\n",
    "    'reviews': reviews\n",
    "   \n",
    "    # Add more if you have more cleaned tables\n",
    "}\n",
    "\n",
    "# Upload all tables\n",
    "for table_name, df in tables.items():\n",
    "    print(f\"Uploading: {table_name}\")\n",
    "    df.to_sql(table_name, engine, if_exists='replace', index=False)\n",
    "\n"
   ]
  },
  {
   "cell_type": "code",
   "execution_count": 23,
   "id": "d039ca3e-e50f-49fa-93e7-350f5fe72aa3",
   "metadata": {},
   "outputs": [],
   "source": [
    "import pandas as pd\n",
    "from sklearn.model_selection import train_test_split\n",
    "from sklearn.linear_model import LinearRegression\n",
    "from sklearn.metrics import mean_absolute_error, mean_squared_error, r2_score\n",
    "import matplotlib.pyplot as plt\n"
   ]
  },
  {
   "cell_type": "code",
   "execution_count": 24,
   "id": "c42539d0-c2cd-418f-a619-114af7ee125b",
   "metadata": {},
   "outputs": [
    {
     "ename": "KeyError",
     "evalue": "\"['order_dayofweek', 'order_hour', 'estimated_delivery_days'] not in index\"",
     "output_type": "error",
     "traceback": [
      "\u001b[1;31m---------------------------------------------------------------------------\u001b[0m",
      "\u001b[1;31mKeyError\u001b[0m                                  Traceback (most recent call last)",
      "Cell \u001b[1;32mIn[24], line 5\u001b[0m\n\u001b[0;32m      2\u001b[0m features \u001b[38;5;241m=\u001b[39m [\u001b[38;5;124m'\u001b[39m\u001b[38;5;124morder_dayofweek\u001b[39m\u001b[38;5;124m'\u001b[39m, \u001b[38;5;124m'\u001b[39m\u001b[38;5;124morder_hour\u001b[39m\u001b[38;5;124m'\u001b[39m, \u001b[38;5;124m'\u001b[39m\u001b[38;5;124mestimated_delivery_days\u001b[39m\u001b[38;5;124m'\u001b[39m, \u001b[38;5;124m'\u001b[39m\u001b[38;5;124mwait_time_hrs\u001b[39m\u001b[38;5;124m'\u001b[39m, \u001b[38;5;124m'\u001b[39m\u001b[38;5;124mprocessing_time_hrs\u001b[39m\u001b[38;5;124m'\u001b[39m]\n\u001b[0;32m      3\u001b[0m target \u001b[38;5;241m=\u001b[39m \u001b[38;5;124m'\u001b[39m\u001b[38;5;124mdelivery_duration_days\u001b[39m\u001b[38;5;124m'\u001b[39m\n\u001b[1;32m----> 5\u001b[0m X \u001b[38;5;241m=\u001b[39m df[features]\u001b[38;5;241m.\u001b[39mfillna(\u001b[38;5;241m0\u001b[39m)\n\u001b[0;32m      6\u001b[0m y \u001b[38;5;241m=\u001b[39m df[target]\n",
      "File \u001b[1;32m~\\anaconda3\\Lib\\site-packages\\pandas\\core\\frame.py:3899\u001b[0m, in \u001b[0;36mDataFrame.__getitem__\u001b[1;34m(self, key)\u001b[0m\n\u001b[0;32m   3897\u001b[0m     \u001b[38;5;28;01mif\u001b[39;00m is_iterator(key):\n\u001b[0;32m   3898\u001b[0m         key \u001b[38;5;241m=\u001b[39m \u001b[38;5;28mlist\u001b[39m(key)\n\u001b[1;32m-> 3899\u001b[0m     indexer \u001b[38;5;241m=\u001b[39m \u001b[38;5;28mself\u001b[39m\u001b[38;5;241m.\u001b[39mcolumns\u001b[38;5;241m.\u001b[39m_get_indexer_strict(key, \u001b[38;5;124m\"\u001b[39m\u001b[38;5;124mcolumns\u001b[39m\u001b[38;5;124m\"\u001b[39m)[\u001b[38;5;241m1\u001b[39m]\n\u001b[0;32m   3901\u001b[0m \u001b[38;5;66;03m# take() does not accept boolean indexers\u001b[39;00m\n\u001b[0;32m   3902\u001b[0m \u001b[38;5;28;01mif\u001b[39;00m \u001b[38;5;28mgetattr\u001b[39m(indexer, \u001b[38;5;124m\"\u001b[39m\u001b[38;5;124mdtype\u001b[39m\u001b[38;5;124m\"\u001b[39m, \u001b[38;5;28;01mNone\u001b[39;00m) \u001b[38;5;241m==\u001b[39m \u001b[38;5;28mbool\u001b[39m:\n",
      "File \u001b[1;32m~\\anaconda3\\Lib\\site-packages\\pandas\\core\\indexes\\base.py:6115\u001b[0m, in \u001b[0;36mIndex._get_indexer_strict\u001b[1;34m(self, key, axis_name)\u001b[0m\n\u001b[0;32m   6112\u001b[0m \u001b[38;5;28;01melse\u001b[39;00m:\n\u001b[0;32m   6113\u001b[0m     keyarr, indexer, new_indexer \u001b[38;5;241m=\u001b[39m \u001b[38;5;28mself\u001b[39m\u001b[38;5;241m.\u001b[39m_reindex_non_unique(keyarr)\n\u001b[1;32m-> 6115\u001b[0m \u001b[38;5;28mself\u001b[39m\u001b[38;5;241m.\u001b[39m_raise_if_missing(keyarr, indexer, axis_name)\n\u001b[0;32m   6117\u001b[0m keyarr \u001b[38;5;241m=\u001b[39m \u001b[38;5;28mself\u001b[39m\u001b[38;5;241m.\u001b[39mtake(indexer)\n\u001b[0;32m   6118\u001b[0m \u001b[38;5;28;01mif\u001b[39;00m \u001b[38;5;28misinstance\u001b[39m(key, Index):\n\u001b[0;32m   6119\u001b[0m     \u001b[38;5;66;03m# GH 42790 - Preserve name from an Index\u001b[39;00m\n",
      "File \u001b[1;32m~\\anaconda3\\Lib\\site-packages\\pandas\\core\\indexes\\base.py:6179\u001b[0m, in \u001b[0;36mIndex._raise_if_missing\u001b[1;34m(self, key, indexer, axis_name)\u001b[0m\n\u001b[0;32m   6176\u001b[0m     \u001b[38;5;28;01mraise\u001b[39;00m \u001b[38;5;167;01mKeyError\u001b[39;00m(\u001b[38;5;124mf\u001b[39m\u001b[38;5;124m\"\u001b[39m\u001b[38;5;124mNone of [\u001b[39m\u001b[38;5;132;01m{\u001b[39;00mkey\u001b[38;5;132;01m}\u001b[39;00m\u001b[38;5;124m] are in the [\u001b[39m\u001b[38;5;132;01m{\u001b[39;00maxis_name\u001b[38;5;132;01m}\u001b[39;00m\u001b[38;5;124m]\u001b[39m\u001b[38;5;124m\"\u001b[39m)\n\u001b[0;32m   6178\u001b[0m not_found \u001b[38;5;241m=\u001b[39m \u001b[38;5;28mlist\u001b[39m(ensure_index(key)[missing_mask\u001b[38;5;241m.\u001b[39mnonzero()[\u001b[38;5;241m0\u001b[39m]]\u001b[38;5;241m.\u001b[39munique())\n\u001b[1;32m-> 6179\u001b[0m \u001b[38;5;28;01mraise\u001b[39;00m \u001b[38;5;167;01mKeyError\u001b[39;00m(\u001b[38;5;124mf\u001b[39m\u001b[38;5;124m\"\u001b[39m\u001b[38;5;132;01m{\u001b[39;00mnot_found\u001b[38;5;132;01m}\u001b[39;00m\u001b[38;5;124m not in index\u001b[39m\u001b[38;5;124m\"\u001b[39m)\n",
      "\u001b[1;31mKeyError\u001b[0m: \"['order_dayofweek', 'order_hour', 'estimated_delivery_days'] not in index\""
     ]
    }
   ],
   "source": [
    "# Select your features and target\n",
    "features = ['order_dayofweek', 'order_hour', 'estimated_delivery_days', 'wait_time_hrs', 'processing_time_hrs']\n",
    "target = 'delivery_duration_days'\n",
    "\n",
    "X = df[features].fillna(0)\n",
    "y = df[target]\n"
   ]
  },
  {
   "cell_type": "code",
   "execution_count": 25,
   "id": "a37f33b4-8cc4-4d86-8cdf-37d5538ed7b6",
   "metadata": {},
   "outputs": [
    {
     "ename": "NameError",
     "evalue": "name 'X' is not defined",
     "output_type": "error",
     "traceback": [
      "\u001b[1;31m---------------------------------------------------------------------------\u001b[0m",
      "\u001b[1;31mNameError\u001b[0m                                 Traceback (most recent call last)",
      "Cell \u001b[1;32mIn[25], line 1\u001b[0m\n\u001b[1;32m----> 1\u001b[0m X_train, X_test, y_train, y_test \u001b[38;5;241m=\u001b[39m train_test_split(X, y, test_size\u001b[38;5;241m=\u001b[39m\u001b[38;5;241m0.2\u001b[39m, random_state\u001b[38;5;241m=\u001b[39m\u001b[38;5;241m42\u001b[39m)\n",
      "\u001b[1;31mNameError\u001b[0m: name 'X' is not defined"
     ]
    }
   ],
   "source": [
    "X_train, X_test, y_train, y_test = train_test_split(X, y, test_size=0.2, random_state=42)\n"
   ]
  },
  {
   "cell_type": "code",
   "execution_count": 26,
   "id": "efa5e82b-f654-4b89-8a27-d12617eda132",
   "metadata": {},
   "outputs": [
    {
     "ename": "NameError",
     "evalue": "name 'X' is not defined",
     "output_type": "error",
     "traceback": [
      "\u001b[1;31m---------------------------------------------------------------------------\u001b[0m",
      "\u001b[1;31mNameError\u001b[0m                                 Traceback (most recent call last)",
      "Cell \u001b[1;32mIn[26], line 2\u001b[0m\n\u001b[0;32m      1\u001b[0m \u001b[38;5;66;03m# Combine X and y for easy filtering\u001b[39;00m\n\u001b[1;32m----> 2\u001b[0m data \u001b[38;5;241m=\u001b[39m pd\u001b[38;5;241m.\u001b[39mconcat([X, y], axis\u001b[38;5;241m=\u001b[39m\u001b[38;5;241m1\u001b[39m)\n\u001b[0;32m      4\u001b[0m \u001b[38;5;66;03m# Drop rows where target (y) is NaN\u001b[39;00m\n\u001b[0;32m      5\u001b[0m data \u001b[38;5;241m=\u001b[39m data\u001b[38;5;241m.\u001b[39mdropna(subset\u001b[38;5;241m=\u001b[39m[y\u001b[38;5;241m.\u001b[39mname])\n",
      "\u001b[1;31mNameError\u001b[0m: name 'X' is not defined"
     ]
    }
   ],
   "source": [
    "# Combine X and y for easy filtering\n",
    "data = pd.concat([X, y], axis=1)\n",
    "\n",
    "# Drop rows where target (y) is NaN\n",
    "data = data.dropna(subset=[y.name])\n",
    "\n",
    "# Split back to X and y\n",
    "X = data[X.columns]\n",
    "y = data[y.name]\n",
    "\n",
    "# Then proceed with train_test_split\n",
    "from sklearn.model_selection import train_test_split\n",
    "X_train, X_test, y_train, y_test = train_test_split(X, y, test_size=0.2, random_state=42)\n",
    "\n",
    "# Train your model\n",
    "from sklearn.linear_model import LinearRegression\n",
    "lr_model = LinearRegression()\n",
    "lr_model.fit(X_train, y_train)\n",
    "\n"
   ]
  },
  {
   "cell_type": "code",
   "execution_count": 27,
   "id": "0a9d16d4-220f-473f-8876-c256786f5606",
   "metadata": {},
   "outputs": [
    {
     "ename": "NameError",
     "evalue": "name 'X_train' is not defined",
     "output_type": "error",
     "traceback": [
      "\u001b[1;31m---------------------------------------------------------------------------\u001b[0m",
      "\u001b[1;31mNameError\u001b[0m                                 Traceback (most recent call last)",
      "Cell \u001b[1;32mIn[27], line 2\u001b[0m\n\u001b[0;32m      1\u001b[0m lr_model \u001b[38;5;241m=\u001b[39m LinearRegression()\n\u001b[1;32m----> 2\u001b[0m lr_model\u001b[38;5;241m.\u001b[39mfit(X_train, y_train)\n",
      "\u001b[1;31mNameError\u001b[0m: name 'X_train' is not defined"
     ]
    }
   ],
   "source": [
    "lr_model = LinearRegression()\n",
    "lr_model.fit(X_train, y_train)\n",
    "\n"
   ]
  },
  {
   "cell_type": "code",
   "execution_count": 22,
   "id": "41adadeb-d07a-42f7-8789-c262f677b0fe",
   "metadata": {},
   "outputs": [
    {
     "ename": "NameError",
     "evalue": "name 'lr_model' is not defined",
     "output_type": "error",
     "traceback": [
      "\u001b[1;31m---------------------------------------------------------------------------\u001b[0m",
      "\u001b[1;31mNameError\u001b[0m                                 Traceback (most recent call last)",
      "Cell \u001b[1;32mIn[22], line 1\u001b[0m\n\u001b[1;32m----> 1\u001b[0m y_pred \u001b[38;5;241m=\u001b[39m lr_model\u001b[38;5;241m.\u001b[39mpredict(X_test)\n\u001b[0;32m      3\u001b[0m \u001b[38;5;28mprint\u001b[39m(\u001b[38;5;124m\"\u001b[39m\u001b[38;5;124m📊 Linear Regression Evaluation:\u001b[39m\u001b[38;5;124m\"\u001b[39m)\n\u001b[0;32m      4\u001b[0m \u001b[38;5;28mprint\u001b[39m(\u001b[38;5;124m\"\u001b[39m\u001b[38;5;124mMAE:\u001b[39m\u001b[38;5;124m\"\u001b[39m, mean_absolute_error(y_test, y_pred))\n",
      "\u001b[1;31mNameError\u001b[0m: name 'lr_model' is not defined"
     ]
    }
   ],
   "source": [
    "y_pred = lr_model.predict(X_test)\n",
    "\n",
    "print(\"📊 Linear Regression Evaluation:\")\n",
    "print(\"MAE:\", mean_absolute_error(y_test, y_pred))\n",
    "print(\"RMSE:\", mean_squared_error(y_test, y_pred, squared=False))\n",
    "print(\"R² Score:\", r2_score(y_test, y_pred))\n"
   ]
  },
  {
   "cell_type": "code",
   "execution_count": 28,
   "id": "f33847aa-bff7-4e81-9818-024626848f8b",
   "metadata": {},
   "outputs": [
    {
     "ename": "NameError",
     "evalue": "name 'y_test' is not defined",
     "output_type": "error",
     "traceback": [
      "\u001b[1;31m---------------------------------------------------------------------------\u001b[0m",
      "\u001b[1;31mNameError\u001b[0m                                 Traceback (most recent call last)",
      "Cell \u001b[1;32mIn[28], line 2\u001b[0m\n\u001b[0;32m      1\u001b[0m plt\u001b[38;5;241m.\u001b[39mfigure(figsize\u001b[38;5;241m=\u001b[39m(\u001b[38;5;241m10\u001b[39m, \u001b[38;5;241m5\u001b[39m))\n\u001b[1;32m----> 2\u001b[0m plt\u001b[38;5;241m.\u001b[39mscatter(y_test, y_pred, alpha\u001b[38;5;241m=\u001b[39m\u001b[38;5;241m0.4\u001b[39m, color\u001b[38;5;241m=\u001b[39m\u001b[38;5;124m'\u001b[39m\u001b[38;5;124mblue\u001b[39m\u001b[38;5;124m'\u001b[39m)\n\u001b[0;32m      3\u001b[0m plt\u001b[38;5;241m.\u001b[39mplot([y\u001b[38;5;241m.\u001b[39mmin(), y\u001b[38;5;241m.\u001b[39mmax()], [y\u001b[38;5;241m.\u001b[39mmin(), y\u001b[38;5;241m.\u001b[39mmax()], \u001b[38;5;124m'\u001b[39m\u001b[38;5;124mr--\u001b[39m\u001b[38;5;124m'\u001b[39m)  \u001b[38;5;66;03m# y = x line\u001b[39;00m\n\u001b[0;32m      4\u001b[0m plt\u001b[38;5;241m.\u001b[39mxlabel(\u001b[38;5;124m\"\u001b[39m\u001b[38;5;124mActual Delivery Duration (days)\u001b[39m\u001b[38;5;124m\"\u001b[39m)\n",
      "\u001b[1;31mNameError\u001b[0m: name 'y_test' is not defined"
     ]
    },
    {
     "data": {
      "text/plain": [
       "<Figure size 1000x500 with 0 Axes>"
      ]
     },
     "metadata": {},
     "output_type": "display_data"
    }
   ],
   "source": [
    "plt.figure(figsize=(10, 5))\n",
    "plt.scatter(y_test, y_pred, alpha=0.4, color='blue')\n",
    "plt.plot([y.min(), y.max()], [y.min(), y.max()], 'r--')  # y = x line\n",
    "plt.xlabel(\"Actual Delivery Duration (days)\")\n",
    "plt.ylabel(\"Predicted Delivery Duration (days)\")\n",
    "plt.title(\"Actual vs Predicted Delivery Duration (Linear Regression)\")\n",
    "plt.grid(True)\n",
    "plt.show()\n"
   ]
  },
  {
   "cell_type": "code",
   "execution_count": null,
   "id": "a55b5da8-fdcd-44e1-aae9-8fdf8580f6c7",
   "metadata": {},
   "outputs": [],
   "source": [
    "df['delivery_status'] = df['order_delivered_customer_date'] > df['order_estimated_delivery_date']\n",
    "df['delivery_status'] = df['delivery_status'].astype(int)  # 1 = delayed, 0 = on-time\n"
   ]
  },
  {
   "cell_type": "code",
   "execution_count": null,
   "id": "cf8afb19-0d9f-40c2-9822-19096ad03f99",
   "metadata": {},
   "outputs": [],
   "source": [
    "df"
   ]
  },
  {
   "cell_type": "code",
   "execution_count": null,
   "id": "c70289d0-ba4d-4343-99da-67c2900a309f",
   "metadata": {},
   "outputs": [],
   "source": [
    "from sklearn.model_selection import train_test_split\n",
    "from sklearn.linear_model import LogisticRegression\n",
    "from sklearn.metrics import classification_report, confusion_matrix\n",
    "\n"
   ]
  },
  {
   "cell_type": "code",
   "execution_count": null,
   "id": "173fdfe8-66ad-48ed-86ff-fbfb58d03ee5",
   "metadata": {},
   "outputs": [],
   "source": [
    "# Step 1: Use the correct target column\n",
    "df_model = df.dropna(subset=['late_delivery'])\n",
    "\n",
    "# Step 2: Define features and target\n",
    "X = df_model.drop('late_delivery', axis=1)\n",
    "y = df_model['late_delivery']\n"
   ]
  },
  {
   "cell_type": "code",
   "execution_count": null,
   "id": "90de483a-9abb-4100-aa54-102afb8b1154",
   "metadata": {},
   "outputs": [],
   "source": [
    "# Split\n",
    "X_train, X_test, y_train, y_test = train_test_split(X, y, test_size=0.2, random_state=42)\n",
    "\n"
   ]
  },
  {
   "cell_type": "code",
   "execution_count": null,
   "id": "7885ca4d-be9f-419e-9ba2-b6e37006d5c7",
   "metadata": {},
   "outputs": [],
   "source": [
    "# Drop columns that are IDs or datetime strings\n",
    "drop_cols = [\n",
    "    'order_id', 'customer_id', 'order_status',\n",
    "    'order_purchase_timestamp', 'order_approved_at',\n",
    "    'order_delivered_carrier_date', 'order_delivered_customer_date',\n",
    "    'order_estimated_delivery_date'\n",
    "]\n",
    "\n",
    "df_model = df.dropna(subset=['late_delivery']).drop(columns=drop_cols)\n",
    "\n",
    "# Set features and target\n",
    "X = df_model.drop('late_delivery', axis=1)\n",
    "y = df_model['late_delivery']\n"
   ]
  },
  {
   "cell_type": "code",
   "execution_count": null,
   "id": "14d9afdf-0665-4716-9b38-7126523a540a",
   "metadata": {},
   "outputs": [],
   "source": [
    "print(X.dtypes)"
   ]
  },
  {
   "cell_type": "code",
   "execution_count": null,
   "id": "c0191b4d-dd72-4bac-92ab-747f15632652",
   "metadata": {},
   "outputs": [],
   "source": [
    "print(X_train.isnull().sum())\n",
    "print(y_train.isnull().sum())\n"
   ]
  },
  {
   "cell_type": "code",
   "execution_count": null,
   "id": "c5ccb554-8d2b-4c80-b989-67ad68901c91",
   "metadata": {},
   "outputs": [],
   "source": [
    "print(y_train.unique())\n",
    "print(y_train.value_counts())\n"
   ]
  },
  {
   "cell_type": "code",
   "execution_count": null,
   "id": "87589354-27bc-421b-bc88-f00b962b462c",
   "metadata": {},
   "outputs": [],
   "source": [
    "# Convert late_delivery to integer (0 or 1)\n",
    "y_train = y_train.astype(int)\n",
    "y_test = y_test.astype(int)\n"
   ]
  },
  {
   "cell_type": "code",
   "execution_count": null,
   "id": "5d78e78e-5441-4b2a-a1d7-b82a124d38dc",
   "metadata": {},
   "outputs": [],
   "source": [
    "from sklearn.model_selection import train_test_split\n",
    "from sklearn.linear_model import LogisticRegression\n",
    "\n",
    "\n",
    "X_train, X_test, y_train, y_test = train_test_split(X, y, test_size=0.2, random_state=42)\n",
    "\n",
    "# Fill missing values if any\n",
    "X_train = X_train.fillna(X_train.mean())\n",
    "X_test = X_test.fillna(X_train.mean())\n",
    "\n",
    "# Make sure target is int\n",
    "y_train = y_train.astype(int)\n",
    "y_test = y_test.astype(int)\n",
    "\n",
    "# Fit model\n",
    "model = LogisticRegression()\n",
    "model.fit(X_train, y_train)\n"
   ]
  },
  {
   "cell_type": "code",
   "execution_count": null,
   "id": "a1459303-95c3-4f12-967a-500806a905aa",
   "metadata": {},
   "outputs": [],
   "source": []
  },
  {
   "cell_type": "code",
   "execution_count": null,
   "id": "5f62a9e4-8f70-4488-9493-cbf7148a8d6f",
   "metadata": {},
   "outputs": [],
   "source": [
    "from sklearn.metrics import precision_score, recall_score, f1_score, accuracy_score\n",
    "\n",
    "def model_metrics(y_true, y_pred):\n",
    "    return {\n",
    "        \"Accuracy\": accuracy_score(y_true, y_pred),\n",
    "        \"Precision\": precision_score(y_true, y_pred),\n",
    "        \"Recall\": recall_score(y_true, y_pred),\n",
    "        \"F1-score\": f1_score(y_true, y_pred)\n",
    "    }\n",
    "\n",
    "metrics_lr = model_metrics(y_test, y_pred_lr)\n",
    "metrics_rf = model_metrics(y_test, y_pred_rf)\n",
    "\n",
    "import pandas as pd\n",
    "\n",
    "# Create comparison table\n",
    "model_comparison = pd.DataFrame([metrics_lr, metrics_rf], index=[\"Logistic Regression\", \"Random Forest\"])\n",
    "model_comparison\n"
   ]
  },
  {
   "cell_type": "code",
   "execution_count": 29,
   "id": "a9290951-129d-4124-8e24-8d9ffdbff022",
   "metadata": {},
   "outputs": [
    {
     "name": "stderr",
     "output_type": "stream",
     "text": [
      "C:\\Users\\deepi\\anaconda3\\Lib\\site-packages\\statsmodels\\tsa\\statespace\\sarimax.py:978: UserWarning: Non-invertible starting MA parameters found. Using zeros as starting parameters.\n",
      "  warn('Non-invertible starting MA parameters found.'\n",
      "C:\\Users\\deepi\\anaconda3\\Lib\\site-packages\\statsmodels\\tsa\\statespace\\sarimax.py:866: UserWarning: Too few observations to estimate starting parameters for seasonal ARMA. All parameters except for variances will be set to zeros.\n",
      "  warn('Too few observations to estimate starting parameters%s.'\n",
      "C:\\Users\\deepi\\anaconda3\\Lib\\site-packages\\statsmodels\\base\\model.py:607: ConvergenceWarning: Maximum Likelihood optimization failed to converge. Check mle_retvals\n",
      "  warnings.warn(\"Maximum Likelihood optimization failed to \"\n"
     ]
    },
    {
     "data": {
      "image/png": "[encoded data removed]",
      "text/plain": [
       "<Figure size 1200x600 with 1 Axes>"
      ]
     },
     "metadata": {},
     "output_type": "display_data"
    }
   ],
   "source": [
    "import pandas as pd\n",
    "import matplotlib.pyplot as plt\n",
    "from statsmodels.tsa.statespace.sarimax import SARIMAX\n",
    "\n",
    "# Simulate weekly delivery data (replace with actual weekly data)\n",
    "date_range = pd.date_range(start='2024-01-01', periods=30, freq='W-MON')\n",
    "sample_deliveries = pd.Series([150 + (i % 5)*10 + (i//5)*5 for i in range(30)], index=date_range)\n",
    "\n",
    "# Fit SARIMA model\n",
    "model = SARIMAX(sample_deliveries, order=(1,1,1), seasonal_order=(1,1,1,12))\n",
    "results = model.fit(disp=False)\n",
    "\n",
    "# Forecast next 12 weeks\n",
    "forecast = results.get_forecast(steps=12)\n",
    "forecast_index = pd.date_range(start=sample_deliveries.index[-1] + pd.Timedelta(weeks=1), periods=12, freq='W-MON')\n",
    "forecast_mean = forecast.predicted_mean\n",
    "conf_int = forecast.conf_int()\n",
    "conf_int.index = forecast_index\n",
    "\n",
    "# Plot the forecast with confidence interval\n",
    "plt.figure(figsize=(12,6))\n",
    "plt.plot(sample_deliveries, label='Historical Deliveries')\n",
    "plt.plot(forecast_index, forecast_mean, label='Forecasted Deliveries', color='orange', linestyle='--')\n",
    "plt.fill_between(forecast_index, conf_int.iloc[:, 0], conf_int.iloc[:, 1], color='orange', alpha=0.3)\n",
    "\n",
    "plt.title('Weekly Delivery Forecast (SARIMA)')\n",
    "plt.xlabel('Date')\n",
    "plt.ylabel('Number of Deliveries')\n",
    "plt.legend()\n",
    "plt.grid(True)\n",
    "plt.tight_layout()\n",
    "plt.show()\n"
   ]
  },
  {
   "cell_type": "code",
   "execution_count": null,
   "id": "faa515bf-06f3-4762-9583-3a6e395ee3df",
   "metadata": {},
   "outputs": [],
   "source": [
    "import pandas as pd\n",
    "import numpy as np\n",
    "from sklearn.model_selection import train_test_split\n",
    "from sklearn.ensemble import RandomForestClassifier\n",
    "from sklearn.metrics import classification_report, roc_auc_score, roc_curve\n",
    "from sklearn.preprocessing import StandardScaler\n",
    "import matplotlib.pyplot as plt\n",
    "import seaborn as sns\n",
    "\n"
   ]
  },
  {
   "cell_type": "code",
   "execution_count": null,
   "id": "d3e10c00-fd11-40b9-83f4-62d46557d242",
   "metadata": {},
   "outputs": [],
   "source": [
    "# 3. Drop rows with missing target\n",
    "df_model = df_model.dropna(subset=['late_delivery'])\n",
    "df_model"
   ]
  },
  {
   "cell_type": "code",
   "execution_count": null,
   "id": "cc463c9b-503f-4b55-84f5-0a3d4e7e5e0a",
   "metadata": {},
   "outputs": [],
   "source": [
    "X = df_model.drop('late_delivery', axis=1)\n",
    "y = df_model['late_delivery']"
   ]
  },
  {
   "cell_type": "code",
   "execution_count": null,
   "id": "ea7ae7cb-e442-4084-97a3-e4ecfa0f04ad",
   "metadata": {},
   "outputs": [],
   "source": [
    "\n",
    "X_train, X_test, y_train, y_test = train_test_split(X, y, test_size=0.2, random_state=42)\n"
   ]
  },
  {
   "cell_type": "code",
   "execution_count": null,
   "id": "ae1019f5-6b9f-49cb-8a46-0f8883b381b6",
   "metadata": {},
   "outputs": [],
   "source": [
    "# Remove rows with any missing values\n",
    "df_cleaned = df.dropna()\n",
    "df_cleaned"
   ]
  },
  {
   "cell_type": "code",
   "execution_count": null,
   "id": "471d29cc-6a61-4e21-bbd6-d34c68ada124",
   "metadata": {},
   "outputs": [],
   "source": [
    "X_train = X_train.dropna()\n",
    "y_train = y_train.loc[X_train.index]  # keep labels aligned\n",
    "\n",
    "X_test = X_test.dropna()\n",
    "y_test = y_test.loc[X_test.index]\n"
   ]
  },
  {
   "cell_type": "code",
   "execution_count": null,
   "id": "ab241d9d-f21d-4396-b3ae-6d65d874b5c9",
   "metadata": {},
   "outputs": [],
   "source": [
    "# 6. Train Random Forest model\n",
    "rf_model = RandomForestClassifier(n_estimators=100, random_state=42, class_weight='balanced')\n",
    "rf_model.fit(X_train, y_train)\n"
   ]
  },
  {
   "cell_type": "code",
   "execution_count": null,
   "id": "ce993c25-c0ab-46cf-b931-d0536af03218",
   "metadata": {},
   "outputs": [],
   "source": [
    "# 7. Predictions\n",
    "y_pred = rf_model.predict(X_test)\n",
    "y_proba = rf_model.predict_proba(X_test)[:, 1]\n"
   ]
  },
  {
   "cell_type": "code",
   "execution_count": null,
   "id": "b93d9638-b179-4a61-8cf8-3fd51a1805a3",
   "metadata": {},
   "outputs": [],
   "source": [
    "import matplotlib.ticker as mtick\n",
    "\n",
    "# Step 1: Create readable labels if needed\n",
    "feature_labels = {\n",
    "    'processing_time_hrs': 'Processing Time (hrs)',\n",
    "    'wait_time_hrs': 'Wait Time (hrs)',\n",
    "    'delivery_duration_hrs': 'Delivery Duration (hrs)',\n",
    "    'delivery_duration_days': 'Delivery Duration (days)',\n",
    "    'estimated_delivery_days': 'Estimated Delivery (days)',\n",
    "    'order_dayofweek': 'Order Day of Week',\n",
    "    'order_hour': 'Order Hour'\n",
    "}\n",
    "\n",
    "# Step 2: Map feature names to readable labels\n",
    "renamed_features = [feature_labels.get(col, col) for col in X.columns]\n",
    "\n",
    "# Step 3: Get feature importances and convert to percentage\n",
    "importances = pd.Series(rf_model.feature_importances_, index=renamed_features) * 100\n",
    "\n",
    "# Step 4: Plot\n",
    "ax = importances.sort_values().plot(kind='barh', figsize=(10,6), color='blue')\n",
    "plt.title(\"Feature Importance\")\n",
    "plt.xlabel(\" total\")\n",
    "plt.grid(True, axis='x', linestyle='--', alpha=0.7)\n",
    "\n",
    "# Step 5: Format x-axis to remove decimals (show whole %)\n",
    "ax.xaxis.set_major_formatter(mtick.FormatStrFormatter('%d'))\n",
    "\n",
    "plt.tight_layout()\n",
    "plt.show()\n"
   ]
  },
  {
   "cell_type": "code",
   "execution_count": 11,
   "id": "059d5d5f-5063-4785-b21f-fafd6c54ea3d",
   "metadata": {},
   "outputs": [
    {
     "ename": "NameError",
     "evalue": "name 'model' is not defined",
     "output_type": "error",
     "traceback": [
      "\u001b[1;31m---------------------------------------------------------------------------\u001b[0m",
      "\u001b[1;31mNameError\u001b[0m                                 Traceback (most recent call last)",
      "Cell \u001b[1;32mIn[11], line 1\u001b[0m\n\u001b[1;32m----> 1\u001b[0m df[\u001b[38;5;124m'\u001b[39m\u001b[38;5;124mpredicted\u001b[39m\u001b[38;5;124m'\u001b[39m] \u001b[38;5;241m=\u001b[39m model\u001b[38;5;241m.\u001b[39mpredict(X_test)\n\u001b[0;32m      2\u001b[0m area_risk \u001b[38;5;241m=\u001b[39m df\u001b[38;5;241m.\u001b[39mgroupby(\u001b[38;5;124m'\u001b[39m\u001b[38;5;124mregion\u001b[39m\u001b[38;5;124m'\u001b[39m)[\u001b[38;5;124m'\u001b[39m\u001b[38;5;124mpredicted\u001b[39m\u001b[38;5;124m'\u001b[39m]\u001b[38;5;241m.\u001b[39mmean()\u001b[38;5;241m.\u001b[39msort_values(ascending\u001b[38;5;241m=\u001b[39m\u001b[38;5;28;01mFalse\u001b[39;00m)\n",
      "\u001b[1;31mNameError\u001b[0m: name 'model' is not defined"
     ]
    }
   ],
   "source": [
    "df['predicted'] = model.predict(X_test)\n",
    "area_risk = df.groupby('region')['predicted'].mean().sort_values(ascending=False)\n"
   ]
  },
  {
   "cell_type": "code",
   "execution_count": null,
   "id": "96f30ecc-4741-4c90-928b-d1a2dda7f8b4",
   "metadata": {},
   "outputs": [],
   "source": []
  }
 ],
 "metadata": {
  "kernelspec": {
   "display_name": "Python 3 (ipykernel)",
   "language": "python",
   "name": "python3"
  },
  "language_info": {
   "codemirror_mode": {
    "name": "ipython",
    "version": 3
   },
   "file_extension": ".py",
   "mimetype": "text/x-python",
   "name": "python",
   "nbconvert_exporter": "python",
   "pygments_lexer": "ipython3",
   "version": "3.11.7"
  }
 },
 "nbformat": 4,
 "nbformat_minor": 5
}
